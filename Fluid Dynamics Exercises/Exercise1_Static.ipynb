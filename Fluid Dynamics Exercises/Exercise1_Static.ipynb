{
 "cells": [
  {
   "cell_type": "markdown",
   "id": "63073fd6-92c7-4ae1-8cc3-feb44bad4df4",
   "metadata": {
    "tags": []
   },
   "source": [
    "# ESP - Geophysical Fluid Dynamics"
   ]
  },
  {
   "cell_type": "markdown",
   "id": "bbbfa1b7-2479-4c94-8374-91b940d3a514",
   "metadata": {},
   "source": [
    "## Villanueva, Lloyd"
   ]
  },
  {
   "cell_type": "markdown",
   "id": "e4da355a-f8b4-436a-8350-ced84247c470",
   "metadata": {
    "tags": []
   },
   "source": [
    "## Exercise I: Static"
   ]
  },
  {
   "cell_type": "markdown",
   "id": "10f5379a-2ab7-4791-9779-30a47b19d6f7",
   "metadata": {},
   "source": [
    "### 1. What is the head (vertical height) for water of density $1000 \\, [kg/m^3]$ subject to a pressure of $500000 \\, [Pa]$ ($500 \\, [kPa]$)?"
   ]
  },
  {
   "cell_type": "markdown",
   "id": "2ac1081a-2744-403a-9870-7f4e75974931",
   "metadata": {},
   "source": [
    "The height can be easily calculated using the pressure formula \n",
    "\\begin{equation}\n",
    "    P = \\rho g h.\n",
    "\\end{equation}\n",
    "The vertical height is calculated as\n",
    "\\begin{equation}\n",
    "    h = \\frac{P}{\\rho g}\n",
    "\\end{equation}"
   ]
  },
  {
   "cell_type": "code",
   "execution_count": 1,
   "id": "0fcad84a-b65d-4c83-b82c-49061110a275",
   "metadata": {},
   "outputs": [
    {
     "name": "stdout",
     "output_type": "stream",
     "text": [
      "h = 50.9683995922528\n"
     ]
    }
   ],
   "source": [
    "P = 500000\n",
    "rho = 1000\n",
    "g = 9.81\n",
    "\n",
    "h = P/(rho*g)\n",
    "print('h =', h)"
   ]
  },
  {
   "cell_type": "markdown",
   "id": "8cd30416-98f0-45a1-895a-46f20e6e0d6b",
   "metadata": {},
   "source": [
    "Therefore, the head is about <mark>$50.97 \\, [m]$</mark>"
   ]
  },
  {
   "cell_type": "markdown",
   "id": "4d6c040d-2968-46c6-a1af-b638a64efb2e",
   "metadata": {},
   "source": [
    "### 2. What would be the (a) gage pressure and (b) absolute pressure of water at depth $12\\,[m]$ below the surface? $\\rho_{water}$ = $1000\\,[Kg/m^3]$ and $P_{atm} = 101000 \\,[N/m^2]$ ($101\\, [kN/m^2]$)"
   ]
  },
  {
   "cell_type": "markdown",
   "id": "df2e4b48-76c4-438f-9508-b02cb434c129",
   "metadata": {},
   "source": [
    "The gauge pressure is calculated as\n",
    "\\begin{equation}\n",
    "    P_{gauge} = \\rho g h\n",
    "\\end{equation}\n",
    "and the formula for absolute pressure is \n",
    "\\begin{equation}\n",
    "    P_{abs} = P_{atm} + \\rho g h.\n",
    "\\end{equation}"
   ]
  },
  {
   "cell_type": "code",
   "execution_count": 3,
   "id": "04ff6ed0-1e3f-40aa-8847-f4b2a7d68d1e",
   "metadata": {},
   "outputs": [
    {
     "name": "stdout",
     "output_type": "stream",
     "text": [
      "Pgauge =  117720.0\n",
      "Pabs =  218720.0\n"
     ]
    }
   ],
   "source": [
    "P_atm = 101000\n",
    "rho_water = 1000\n",
    "h = 12\n",
    "g = 9.81\n",
    "\n",
    "P_gauge = rho_water*g*h\n",
    "print('Pgauge = ', P_gauge)\n",
    "P_abs = P_atm + P_gauge\n",
    "print('Pabs = ', P_abs)"
   ]
  },
  {
   "cell_type": "markdown",
   "id": "f254758e-330d-4ae7-8fe0-8dc76e6c5639",
   "metadata": {},
   "source": [
    "The calculated gauge pressure is <mark> $P_{gauge} = 117720.0 [Pa]$ </mark>, while the computed absolute pressure is <mark>$P_{abs} = 218720.0 [Pa]$ </mark>."
   ]
  },
  {
   "cell_type": "markdown",
   "id": "49955c97-45f1-4916-8b8e-d309ab701adf",
   "metadata": {
    "tags": []
   },
   "source": [
    "### 3. The string of a helium balloon slips from your hand and rises up into the air. When this happens:\n",
    "<ol style=\"list-style-type: lower-alpha\">\n",
    "<li>The balloon rises indefinitely because helium is lighter than air.</li>\n",
    "<li> <mark>  The balloon rises until it reaches an altitude where the air and helium specific weight are equal. </mark> </li>\n",
    "<li> The balloon rises until it reaches an altitude where its weight equals that of the same volume of air. </li>\n",
    "</ol>"
   ]
  },
  {
   "cell_type": "markdown",
   "id": "34985542-1d02-474d-baf4-426ec2efd2f1",
   "metadata": {},
   "source": [
    "##### Answer: b. The balloon rises until it reaches an altitude where the air and helium specific weight are equal."
   ]
  },
  {
   "cell_type": "markdown",
   "id": "70e5fed3-f44a-4372-a443-fe98af391750",
   "metadata": {
    "tags": []
   },
   "source": [
    "### 4. A metal block is suspended with a wire in a tank full of cold water. The cold water is replaced by hot water with a lower specific weight. What happens to the force in the wire?\n",
    "<ol style=\"list-style-type: lower-alpha\">\n",
    "    <li> <mark> Increases </mark> </li>\n",
    "<li>Decreases.</li>\n",
    "<li>Stays the same.</li>\n",
    "</ol>"
   ]
  },
  {
   "cell_type": "markdown",
   "id": "563d8c4f-88de-4445-80b8-3ca1b8dcd546",
   "metadata": {},
   "source": [
    "##### Answer: a. Increases"
   ]
  },
  {
   "cell_type": "markdown",
   "id": "c5616317-eb98-4722-8217-419fa76ec4bc",
   "metadata": {},
   "source": [
    "### 5.  You are standing at the bottom of a lake with your torso above water. Which statement is correct:\n",
    "<ol style=\"list-style-type: lower-alpha\">\n",
    "<li>There is no buoyancy force on you since you are supported by the bottom of the lake.</li>\n",
    "<li>There is a buoyancy force that is proportional to the weight of your body below the water level.</li>\n",
    "<li> <mark>  There is a buoyancy force that is proportional to the volume of your body below the water level.  </mark> </li>\n",
    "<li>There is a buoyancy force only when you jump up from the bottom of the lake.</li>\n",
    "</ol>"
   ]
  },
  {
   "cell_type": "markdown",
   "id": "e79d2079-5141-4ea6-89a1-e1894dc49afc",
   "metadata": {},
   "source": [
    "##### Answer: c. There is a buoyancy force that is proportional to the volume of your body below the water level."
   ]
  },
  {
   "cell_type": "markdown",
   "id": "dda7cf0a-0554-40b7-93bc-cd37f8675277",
   "metadata": {},
   "source": [
    "### 6. If liquid pressure were the same at all depths, would there be a buoyant force on an object submerged in the liquid? Explain with an example."
   ]
  },
  {
   "cell_type": "markdown",
   "id": "4bbb732c-44a9-41c6-8d41-2e386f88d19f",
   "metadata": {},
   "source": [
    "To answer this question, first we first look on how the the buoyant force is derived. \n",
    "\n",
    "First imagine a can fully submerged in water. Recall from the gauge pressure formula, that as you go deeper the pressure increases ($P_{gauge} = \\rho g h$). Because of this fact the fully submerged can will experience a greater pressure in the bottom part compare to the top part. Hence, this difference pressure of the top part and bottom part create a net upward force that we will call the buoyant force. Below is how we derive the buoyant force from the pressure gradient \n",
    "\\begin{align}\n",
    "    F_{buoyant} & = F_{up} - F_{down} \\quad \\quad \\text{Recall pressure is define as } P = F/A \\, -> F = PA \\\\\n",
    "    F_{buoyant} & = P_{bot} A - P_{top} A \\quad \\quad \\text{For the sake of discussion, we let } A_{top} = A_{bot} = A \\\\\n",
    "    F_{buoyant} & = \\rho g h_{bot} A - \\rho g h_{top} A \\quad \\quad \\text{Recall the gauge pressure formula} P_{gauge} = \\rho g h \\\\\n",
    "    F_{buoyant} & = \\rho g A (h_{bot} - h_{top}) \\quad \\quad \\text{The height difference of top and bottom is just the height of the can} \\\\\n",
    "    F_{buoyant} & = \\rho g A h_{can} \\\\\n",
    "    F_{buoyant} & = \\rho g V_{can} = \\rho g V_{disp} \\quad \\quad \\text{only true when the object is fully submerge}\n",
    "\\end{align}\n",
    "But is the volume $V$ should be only be the volume displace $V_{disp}$ by the object? \n",
    "\n",
    "Yes, that is right and when the object is fully submerged $V_{can} = V_{disp}$. \n",
    "\n",
    "Now, lets look on the case where a can is not fully submerge and only the part of $h_{sub}$ is submerge. The pressure on the top $P_{top}$ will reduce to $0$ if we are talking about gauge pressure $P_{gauge}$ or equal to atmospheric pressure $P_{atm}$ if we are want the absolute pressure $P_{abs}$. Since above derivation we use the gauge pressure, we can say that the $P_{top} = 0$. This will result to  \n",
    "\\begin{align}\n",
    "    F_{buoyant} & = P_{bot} A - P_{top} A \\quad \\quad \\text{For the sake of discussion, we say } A_{top} = A_{bot} = A \\\\\n",
    "    F_{buoyant} & = P_{bot} A - (0) A \\quad \\quad \\text{The gauge pressure of the top of the can is } 0\\\\\n",
    "    F_{buoyant} & = \\rho g h_{bot}  \\\\\n",
    "    F_{buoyant} & = \\rho g A (h_{sub}) \\\\\n",
    "    F_{buoyant} & = \\rho g A h_{sub} \\quad \\quad Ah_{sub} \\text{ is just the volume submerge or displace }V_{disp} \\\\\n",
    "    F_{buoyant} & = \\rho g V_{disp} \\quad \\quad \n",
    "\\end{align}\n",
    "We can see here that we derive the buoyancy using the pressure gradient in the object.  <mark> Thus, without a pressure gradient, there will be no buoyant force </mark>. \n",
    "\n",
    "Lastly, if we think a case where a liquid pressure are equal at all depths, because of the gauge pressure $P_{gauge} = \\rho g h$, this is only happen when the gravity is switch off $g=0$ or the density of the fluid is very near $\\rho = 0$. At those cases, the value of $F_{buoyant}$ will also be $0$ since it is also dependent to those variables."
   ]
  }
 ],
 "metadata": {
  "kernelspec": {
   "display_name": "Anaconda3 full",
   "language": "python",
   "name": "anaconda3"
  },
  "language_info": {
   "codemirror_mode": {
    "name": "ipython",
    "version": 3
   },
   "file_extension": ".py",
   "mimetype": "text/x-python",
   "name": "python",
   "nbconvert_exporter": "python",
   "pygments_lexer": "ipython3",
   "version": "3.9.7"
  }
 },
 "nbformat": 4,
 "nbformat_minor": 5
}
